{
 "cells": [
  {
   "cell_type": "code",
   "execution_count": 68,
   "id": "0b51bb43",
   "metadata": {},
   "outputs": [
    {
     "name": "stdout",
     "output_type": "stream",
     "text": [
      "0.8523051829875834 0\n",
      "0.564512619396058 1\n",
      "0.8523051829875834 0\n",
      "0.564512619396058 1\n",
      "0.8937074702396137 0\n",
      "0.6114223515233478 1\n",
      "itn   integral        wgt average     chi2/dof        Q\n",
      "-------------------------------------------------------\n",
      "  1   0.863(17)       0.863(17)           0.00     1.00\n",
      "\n",
      "   I = 0.863(17)\n",
      "dI/I = [0(0) 0(0) 1(0) 0(0) 0(0)]\n",
      "sum(dI/I) = 1(0)\n",
      "0.5000000000000001\n"
     ]
    }
   ],
   "source": [
    "import vegas\n",
    "import numpy as np\n",
    "\n",
    "RMAX = (2 * 0.5**2) ** 0.5 # ?\n",
    "D = 2 # no. of integral dimensions\n",
    "bins = 5\n",
    "\n",
    "def fcn(x):\n",
    "    dx2 = 0.0\n",
    "    for d in range(D):\n",
    "        print(x[d], d)\n",
    "        dx2 += (x[d] - 0.5) ** 2 # x[d] is integ. point in each dimension\n",
    "    I = np.exp(-dx2)\n",
    "    # add I to appropriate bin in dI\n",
    "    dI = np.zeros(bins, dtype=float) # list of 5 zero entries, note fcn called nitn*neval*D (+1) times\n",
    "    dr = RMAX / len(dI)\n",
    "    j = int(dx2 ** 0.5 / dr) # where to put\n",
    "    #print(j, dx2 ** 0.5 / dr)\n",
    "    dI[j] = I\n",
    "    return dict(I=I, dI=dI)\n",
    "\n",
    "integ = vegas.Integrator(D * [(0, 1)])\n",
    "\n",
    "# results returned in a dictionary\n",
    "result = integ(fcn, nitn = 1, neval = 2)\n",
    "print(result.summary())\n",
    "print('   I =', result['I'])\n",
    "print('dI/I =', result['dI'] / result['I'])\n",
    "print('sum(dI/I) =', sum(result['dI']) / result['I'])\n",
    "print(RMAX**2)"
   ]
  },
  {
   "cell_type": "code",
   "execution_count": 2,
   "id": "3e94c298",
   "metadata": {},
   "outputs": [
    {
     "name": "stdout",
     "output_type": "stream",
     "text": [
      "[0, 1, 2, 3, 4]\n"
     ]
    }
   ],
   "source": [
    "vals = []\n",
    "for i in range(0,5):\n",
    "    vals += [i]\n",
    "print(vals)"
   ]
  },
  {
   "cell_type": "code",
   "execution_count": 28,
   "id": "fa298edc",
   "metadata": {},
   "outputs": [
    {
     "name": "stdout",
     "output_type": "stream",
     "text": [
      "0.13227857834374868\n",
      "0.13227857834374868\n",
      "0.7463162999311621\n",
      "0.8050595084028291\n",
      "itn   integral        wgt average     chi2/dof        Q\n",
      "-------------------------------------------------------\n",
      "  1   0.81(77)        0.81(77)            0.00     1.00\n",
      "\n",
      "result = 0.81(77)    Q = nan\n"
     ]
    }
   ],
   "source": [
    "import vegas\n",
    "import math\n",
    "\n",
    "def f(x):\n",
    "    dx2 = 0\n",
    "    for d in range(1):\n",
    "        print(x[d])\n",
    "        dx2 += (x[d] - 0.5) ** 2\n",
    "    return math.exp(-dx2 * 100.) * 1013.2118364296088\n",
    "\n",
    "integ = vegas.Integrator([[0, 1]])\n",
    "\n",
    "result = integ(f, nitn=1, neval=3)\n",
    "print(result.summary())\n",
    "print('result = %s    Q = %.2f' % (result, result.Q))"
   ]
  }
 ],
 "metadata": {
  "kernelspec": {
   "display_name": "Python 3",
   "language": "python",
   "name": "python3"
  },
  "language_info": {
   "codemirror_mode": {
    "name": "ipython",
    "version": 3
   },
   "file_extension": ".py",
   "mimetype": "text/x-python",
   "name": "python",
   "nbconvert_exporter": "python",
   "pygments_lexer": "ipython3",
   "version": "3.8.3"
  }
 },
 "nbformat": 4,
 "nbformat_minor": 5
}
